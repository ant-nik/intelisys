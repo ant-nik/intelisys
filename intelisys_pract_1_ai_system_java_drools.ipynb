{
  "nbformat": 4,
  "nbformat_minor": 0,
  "metadata": {
    "colab": {
      "provenance": [],
      "collapsed_sections": [],
      "authorship_tag": "ABX9TyNcYwRA6fQddD1W2Zr4Jt35"
    },
    "kernelspec": {
      "name": "python3",
      "display_name": "Python 3"
    },
    "language_info": {
      "name": "python"
    }
  },
  "cells": [
    {
      "cell_type": "markdown",
      "metadata": {
        "id": "_f4Q_ah-iwug"
      },
      "source": [
        "# Простейшая система с продукционными правилами на базе Drools\n",
        "\n",
        "Пример простой системы основанной на правилах с использованием фреймворка Drools. Решается задача определения связи между произвольными вершинами ориентированного графа на множестве вершин и ребер. Исходными данными являются соединения отдельных точек (ребра графа A1-A2, A2-A3, A3-A4 и т.д.)."
      ]
    },
    {
      "cell_type": "markdown",
      "metadata": {
        "id": "bNrOhsqMrlY6"
      },
      "source": [
        "\n",
        "![Untitled Diagram.png](data:image/png;base64,iVBORw0KGgoAAAANSUhEUgAAAa8AAACNCAYAAAAAePWIAAAAAXNSR0IArs4c6QAABbd0RVh0bXhmaWxlACUzQ214ZmlsZSUyMGhvc3QlM0QlMjJhcHAuZGlhZ3JhbXMubmV0JTIyJTIwbW9kaWZpZWQlM0QlMjIyMDIxLTExLTEwVDA3JTNBMDElM0EyMS4yNjFaJTIyJTIwYWdlbnQlM0QlMjI1LjAlMjAoV2luZG93cyUyME5UJTIwMTAuMCUzQiUyMFdpbjY0JTNCJTIweDY0KSUyMEFwcGxlV2ViS2l0JTJGNTM3LjM2JTIwKEtIVE1MJTJDJTIwbGlrZSUyMEdlY2tvKSUyMENocm9tZSUyRjk1LjAuNDYzOC42OSUyMFNhZmFyaSUyRjUzNy4zNiUyMiUyMGV0YWclM0QlMjJzSUd3Ykt0bGFCMnRidGlDeXJENCUyMiUyMHZlcnNpb24lM0QlMjIxNC41LjAlMjIlM0UlM0NkaWFncmFtJTIwaWQlM0QlMjIxcDN3aVEwSTFtdVdRdGhiX1YtVSUyMiUyMG5hbWUlM0QlMjJQYWdlLTElMjIlM0UzWnBKYzVzd0FJViUyRmpZJTJGcElHRVdIJTJGSFM1TkRPdE9ORGs2TUtDcWdWaUJIeVFuNTloUkVHck1aRDJ6UUlYenpvb1FWOWVrJTJCMlpjJTJGc1ZYcTg1eWhQUHJNSTB4bTBvdVBNWHM4Z2RDMUx2bFpDV1F1MjY5VkN6RWxVUzZBVnR1UUZLMUcxaTNja3drV3ZvbUNNQ3BMM3haQmxHUTVGVDBPY3MwTyUyRjJqT2olMkZWRnpGR05OMklhSTZ1bzNFb21rVm4zSGF2VUhUT0trR1JrMEUwNVJVMWtKUllJaWR1aEk5bVptcnpoam9yNUtqeXRNSzNZTmw3cmR4MWZ1bmglMkJNNDB3TWFiQzBnJTJGZ3VSZzhiOVBVeEJQRCUyQko5cyUyQjNRSFZ6UjdSblpxeGVscFJOZ2h3Skltb0l1TWlZVEhMRU4yMDZwS3pYUmJoYWh4TGx0bzZueGpMcFFpayUyQkFNTFVhcmxSVHZCcEpTSWxLcTc5WmpWUUs5T1Rra0YyJTJGRVFYNXVSTWduaU1SWlg2c0h6RWtqcllwWml3VXZaam1PS0JObjNud01wRThYbmVpMW5lYUZRJTJGd24yQWRRcGxSNnY2QjRTSXZBMlI2ZHBIMlRLJTJCdXhRa2RmR2Z5YkhhZzBVekQzbUFoJTJCdjQ5U25yeHJNbFdkVmFIMVZQTFFKYUZ5ZGRNemZhRyUyQlBDOTZhUyUyQkZBbHpwanVuUUk5VEZkQ3FCaE5yVnZ6YWJPUUp1Nlk5clVNZHltMERMTXB2TmJzNms3MEtiZXFPJTJGNTdoaVVKVXRlUHFyMnA4SlRWZmpnTk1YMXNYdHpYYXJTQ0t1eiUyQk1mVk9UVU5PRWRscDBMT1NDYUtUczlmS3FFVHprVSUyRm5NQ3hMbGE2N3JGZDklMkZPaiUyRmIwVlhOTjNMTiUyQndIV3ZJRmolMkJwSGNzYm1BbCUyRnpCM0xNOXltdG11V1RYM0RlYzFOJTJCMW8zeEdDVGl2VmlZS3lCOWZ1RmVwOWNMd3ozNldXdXdYeHNvMXFHRTd0TTl2akU5TDB3QUJvek9XRnhBWWVTT0pQWG9adzQ1bEtvc0pBUTBVRGRTRWtVMWJISEJYbEIzMDlkVmNGWEglMkZSa3Y4NXk1cXlydm1UU2l6cjA0STJNNmZRb096cGslMkIxMGg2MEVPZEdOT0RUSUFabEdHZXZnRGUlMkZxVUY0WlIxbyUyRkVnJTJGbmtLVVBQTU1wUXAlMkJ4TW5yTHRHRVpaUHdjTzlNT2ZxVkdlRyUyRmJ1QiUyRlZqek1DYlBPVkxMd052Yk16NjJVdmdUeDd6cFpuJTJGSTJaWmJIJTJGa3IwOFEyMzlLMkp0ZiUzQyUyRmRpYWdyYW0lM0UlM0MlMkZteGZpbGUlM0V5MSgCAAARTElEQVR4Xu3dPWgV2RvH8cdCIYI2SbEQK/El2ETWFEo2wopiIxZrQNCoRcAtEtSsC39NdHVXowgrUUmKLVKoEVaIW9mIIotZ0UIXbcQ3rGxjYWCt9P55ZpnsfZl7Z+aeM5MzM99bJnPOzPmc585v3u69i0qlUkl4IYAAAgggkCGBRYRXhmaLTUUAAQQQ8AQILwoBAQQQQCBzAoRX5qaMDUYAAQQQILyoAQQQQACBzAkQXpmbMjYYAQQQQCBWeD18+FAGBgbk5s2bsnbt2hq9V69eyenTp2V8fFxaW1vRrRKo56d//+abb+aX/uuvv6S7uxu/iH5ad7t375bnz5/L9u3b5caNG9RfQPWEvX+1yZkzZ7yWJ0+epP6aqD9tQg0Gl06j+tO6++mnn7yGU1NTsnfv3tD6ixxenz59klOnTnkddnZ21nTu70C++uordh4B7PX8ZmdnZWRkREZHR70drk6wTiQ74ErEen7+3/v7+70DKnWbmZmRsbExaWlpCX0DFGWBsPevOvgHUb/88gvhVVUYjfzU7fr169RcgzdTI7/y9+w///wjg4OD3klQ0AlS+Soih5eG0+TkpOzZs0cuXLhQcXblJ+rPP/8sv//+O2deAZPYyK98cQ0zPerQI1/Ovv6TierH2X/wHiTMzz+I0tbt7e2EVxVjIz/d+b579w6zBuFVz6/64DPOwWTk8NIJ0pfuWPXMYMuWLTU7V3Yc9emj+GlrNTx06JBcuXIl9MgjzkRnfdmofpx5Bc90mJ++p1euXOnthPXFZcNKx0Z+5Ze8tBWX/WtrsJ6ff9CkZ1k//PCD19DqZcPqdNQzrfv379cUOOEVvOOI6qfLDQ0NSU9PT6RrvlkPpKjbH8XPP2O9c+cOO486l7z8S6vV71//qFivnPz666+EVwy/6vdslPuKUes+L8s1ev/671u9yqQHTHEO3iOdeZXfEPdBg25KEl71L9n4DxTU8/PfBFyyqTWMWn/aksuu8fyWLl3q3cv2g40HNuL5VT+YxgFoPD9duvweVxy/SOEVVND+ZYbyp0IIr+DwCvPzd7j79u3jjCuAMMyvvEmc4s/LkW3YOBr5dXV1zT+pWd4PD238p9FM/el7mXvW/xo28vvuu++8q02+V5z3b2h41TuSDbq3QHjV7kbC/M6dOyfDw8NcKqyzBw7z00sNP/744/zTSXEuO4Tt9PPw/zC/6qcyOfOqnPUwv+r642nheH5af3/88cf8Ay9xLruGhle9yfAv5UxMTMwfYRBetbu7ML///e9/3tOb+hml8hc3ff/VCPPT+mtra6s4e8Duv0qK4ld+hkB4Vb6Ho/iV159+jKje52DzcDAUdwxR/LT+yh96ifr+DQ2vuBvL8ggggAACCCQtQHglLUz/CCCAAALWBQgv66R0iAACCCCQtADhlbQw/SOAAAIIWBcgvKyT0iECCCCAQNIChFfSwvSPAAIIIGBdgPCyTkqHCCCAAAJJCxBeSQvTPwIIIICAdQHCyzopHSKAAAIIJC1AeCUtTP8IIIAAAtYFCC/rpHSIAAIIIJC0AOGVtDD9I4AAAghYFyC8rJPSIQIIIIBA0gKEV9LC9I8AAgggYF2A8LJOSocIIIAAAkkLxAov/W2W6elpmZmZkdevX8vc3JwsW7ZMVq9eLZs3b5be3l5+PbTBjOFnVs744WcmYNaa+nPLL1J46Q8ljoyMyNu3b6Wvr0+2bt0q69atk+XLl8vHjx/lxYsXcu/ePZmampJVq1bJ6Oio6I+y8fpXAD+zSsAPPzMBs9bUn5t+oeF17do1OXDggFy6dEkOHz4cOorLly/LkSNH5OrVq7J///7Q5fO+AH5mM4wffmYCZq2pP3f9GoaXTtzx48fl1q1bsnHjxsijePz4sezatUvOnz9f6ADDL3LJBC6IH35mAmatqT+3/eqGl54qr1+/Xh49ehQruPzhaoBt2rRJnj17VshLiPiZFT5++JkJmLWm/tz3qxteO3bskG3btkW6VFhvmHoJ8e7du3L79m0ziQy2xs9s0vDDz0zArDX1575fYHjpUzX9/f3y8uVLsxGISEdHh0xOTubqKcSLFy/KwYMHvSctg174NS4b/MzeVvjhZyZg1tqV+gsMr6GhIWltbZUTJ06YjVJEzp49K7OzszI2NmbclysdtLS0yOfPn+Xo0aMyPDxcE2L4NZ4p/MwqGT/8zATMWrtSf4HhtWHDBpmYmGjqXlc1i977GhwclCdPnpiJOdRaL4ceO3ZMvnz5IosWLRINq/IQw6/xZOFnVsz44WcmYNbalfoLDC/9/Nb79++9z3GZvvRzYCtWrPA+D5anl56ZfvjwwRvSkiVLKkKsvb0dv5DJxs/s3YAffmYCZq1dqL/A8NKziVKpZDa6stbaXxFeixcvlp07d3ofLcAv/ozjF9+svAV++JkJmLVOsv6C9qeceTU5X21tbd69PM68mgPErzk3vxV++JkJmLV2of4Cw6urq0vGx8et3fMaGBiQp0+fmmk51Fqv+eqHt/WhjaB7Xvg1niz8zIoZP/zMBMxau1J/PG3YxDy68rRNE5vuRBP8zKYBP/zMBMxau1J/fM6riXl05XMOTWy6E03wM5sG/PAzEzBr7Ur98Q0bZvNYtzWf0DeDxQ8/MwGz1tSf+358t6HZHNVtzXejmcHih5+ZgFlr6s99P75V3myOGrbmW6nNcPHDz0zArDX157Yfv+dlNj+hrfk9oFCi0AMAfk+ueUPqr3k7bYmfu36h4aWbzi+Jmk0gfviZCZi1pv7wMxMwa51U/UUKL3/T9dvSp6en5cGDB/LmzRuZm5vzvpR2zZo10tPTI729vbn69nizKattjZ+ZKH74mQmYtab+3PKLFV5mm05rBBBwScD218C5NDa2Jf8ChFf+55gRIhAoQHhRGFkWILyyPHtsOwIGAoSXAR5NF1yA8FrwKWADEFgYAcJrYdxZqx0BwsuOI70gkDkBwitzU8YGlwkQXpQDAgUVILwKOvE5GTbhlZOJZBgIxBUgvOKKsbxLAoSXS7PBtiCQogDhlSI2q7IuQHhZJ6VDBLIhQHhlY57YymABwovKQKCgAoRXQSc+J8MmvHIykQwDgbgChFdcMZZ3SYDwcmk22BYEUhQgvFLEZlXWBQgv66R0iEA2BAivbMwTW8k9L2oAAQTKBAgvyiHLApx5ZXn22HYEDAQILwM8mi64AOG14FPABiCwMAKE18K4s1Y7AoSXHUd6QSBzAoRX5qaMDS6/7F0qlUqIIIBA8QQIr+LNeZ5GzJlXnmaTsSAQQ4DwioHFos4JEF7OTQkbhEA6AoRXOs6sJRkBwisZV3pFwHkBwsv5KWIDGwgQXpQHAgUVILwKOvE5GTbhlZOJZBgIxBUgvOKKsbxLAoSXS7PBtiCQogDhlSI2q7IuQHhZJ6VDBLIhQHhlY57YymABwovKQKCgAoRXQSc+J8MmvHIykQwDgbgChFdcMZZ3SYDwcmk22BYEUhQgvFLEZlXWBQgv66R0iEA2BAivbMwTW8k9L2oAAQTKBAgvyiHLApx5ZXn22HYEDAQILwM8mi64AOG14FPABiCwMAKE18K4s1Y7AoSXHUd6QSBzAoRX5qaMDS6/7M3veVEPCBRTgPAq5rznZdSceeVlJhkHAjEFCK+YYCzulADh5dR0sDEIpCdAeKVnzZrsCxBe9k3pEYFMCBBemZgmNrKOAOFFaSBQUAHCq6ATn5NhE145mUiGgUBcAcIrrhjLuyRAeLk0G2wLAikKEF7xsB8+fCjT09MyMzMjr1+/lrm5OVm2bJmsXr1aNm/eLL29vdLd3R2v0wItbduP8CpQ8TBUBMoFCK9o9fD8+XMZGRmRt2/fSl9fn2zdulXWrVsny5cvl48fP8qLFy/k3r17MjU1JatWrZLR0VHp7OyM1nkBlkrKj/AqQPEwRASCBAiv8Lq4du2aHDhwQC5duiSHDx8ObXD58mU5cuSIXL16Vfbv3x+6fN4XSNKP8Mp79TA+BOoIEF6NS0N3vMePH5dbt27Jxo0bI9fR48ePZdeuXXL+/PlCB1jSfoRX5JJkQQTyJUB41Z9PvdS1fv16efToUazg8nvUANu0aZM8e/askJcQ0/AjvPK1P2I0CEQWILzqU+3YsUO2bdsW6VJhvV70EuLdu3fl9u3bkeckLwum4Ud45aVaGAcCMQWKGl4XL16UgwcPek8KBr30qbj+/n55+fJlTNHaxTs6OmRycjJXTyG64kd4GZcnHSCQTYGihldLS4t8/vxZjh49KsPDwzUhNjQ0JK2trXLixAnjiT179qzMzs7K2NiYcV+udOCKH+HlSkWwHQikLFDU8NLLeceOHZMvX76IGmhYlYfYhg0bZGJioql7XdVTqPe+BgcH5cmTJynPbnKrc8WP8EpujukZAacFihpeOil6ZvXhwwdvfpYsWVIRYu3t7fL+/Xvvc1ymL/0c2IoVK7zPg+Xp5YIf4ZWnimIsCMQQ+Pbbb+XPP/+M0SLfiy5evFh27tzpPRpfKpWsDVYPEorwStIvaD4IryJUFWNEAIEKgba2Nu9eFGdezRWGC36EV3NzRysEEMiogN6z0Q8f60MbQfe8urq6ZHx83No9r4GBAXn69GlGtWo32xU/wis3JcVAEEAgioArT8tF2VYXl3HFj/BysTrYJgQQSEzAlc8pJTbAhDt2xY/wSnii6R4BBLInkMY3RGRPJfoWp+FHeEWfD5ZEAIGCCKTx3Xx5pkzDj/DKcwUxNgQQaFog6W9Fb3rDMtIwaT/CKyOFwGYigED6Akn+HlX6o0l/jUn6EV7pzydrRACBDAkk9UvAGSIw2tSk/Agvo2mhMQIIFEVAv21+enpaHjx4IG/evJG5uTnvS33XrFkjPT090tvbm6tvj7c9r7b9CC/bM0R/CCCAAAKJCxBeiROzAgQQQAAB2wKEl21R+kMAAQQQSFyA8EqcmBUggAACCNgWILxsi9IfAggggEDiAoRX4sSsAAEEEEDAtgDhZVuU/hBAAAEEEhcgvBInZgUIIIAAArYFCC/bovSHAAIIIJC4AOGVODErQAABBBCwLUB42RalPwQQQACBxAUIr8SJWQECCCCAgG0Bwsu2KP0hgAACCCQuQHglTswKEEAAAQRsCxBetkXpDwEEEEAgcQHCK3FiVoAAAnkQ0N+jGhgYkJs3b8ratWu9Ib169Up2794t+oOL5a+pqSnZu3dvHoZtbQxBftr5p0+fZGhoSH777Tfp7Oys8G20csLL2tTQEQII5FVAd7CnTp3yhqc72HrBpDvoM2fOyI0bN6S1tTWvHLHH1chPvfR18uRJieNHeMWeBhoggEDRBPQMa3JyUvbs2SMXLlyQ8fHxmnDyzyD27dvHLypXFUg9P99Mf4laDwh0uUOHDsmVK1fmz27r1RrhVbR3IeNFAIHYAnompS/dweqZwpYtW2oCSs8arl+/LmNjY9LS0hJ7HXlu0MhP/zczM+O5/f3335HPXAmvPFcMY0MAAWMB/5JXf3+/dzagIXX//n3vMpf/4qyrPnMUPw2wvr4++f777yOHP+FlXNp0gAACeRYIeihj+/btFfe1dJnTp08HXk7Ms02UsTXyW7p0qfewBpcNo0iyDAIIIBBDoPyBAr+Z/m3lypXzD27omcO7d+8qzsZirCLXizby6+rqqrjHVX0PrBEMZ165LhsGhwACJgKzs7NeQOklwu7u7vmuyu/T6P2t6jAzWWee2ob5nTt3ToaHhyvOvPSjBxMTE6EPvRBeeaoUxoIAAlYF6j267V8K053s119/7V364inDWvoofh0dHd4Bwp07d7wOon5GjvCyWup0hgACCCCQhgDhlYYy60AAAQQQsCpAeFnlpDMEEEAAgTQECK80lFkHAggggIBVAcLLKiedIYAAAgikIUB4paHMOhBAAAEErAr8H60WCkoyFO/SAAAAAElFTkSuQmCC)"
      ]
    },
    {
      "cell_type": "markdown",
      "metadata": {
        "id": "9A6GyAkhrmyT"
      },
      "source": [
        "В результате работы системы выводятся дополнительные соединения более высокого порядка (A1-A6, A1-A8, A2-A6 и т.д.). Например, объединяя факты о соединения A1 с A2 и A2 с A3 можно получить новый факт, описывающий соединение A1 с A3."
      ]
    },
    {
      "cell_type": "markdown",
      "metadata": {
        "id": "Zf2UCEdwx_Ar"
      },
      "source": [
        "![fact_union.png](data:image/png;base64,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)"
      ]
    },
    {
      "cell_type": "markdown",
      "metadata": {
        "id": "Vp8T7PUvx-st"
      },
      "source": [
        "Совокупность новых фактов, сгенерированных из исходных, позволяет, например, отвечать на вопросы следующего вида - \"Можно ли пройти по графу между вершинами A1 и A6?\".\n",
        "\n",
        "Ниже приводится программный код примера, состоящий из блока настройки окружения для сборки, инструкций по сборке, оболочки системы на языке Java, описания правил и запросов на языке Drools.\n",
        "В заключении приводится результат логического вывода программы."
      ]
    },
    {
      "cell_type": "markdown",
      "metadata": {
        "id": "o-1DL1VT1Ud5"
      },
      "source": [
        "## 1. Определяем вспомогательные функции для запуска программ."
      ]
    },
    {
      "cell_type": "code",
      "metadata": {
        "id": "Ww1oZDldaW4y"
      },
      "source": [
        "def run(cmd):\n",
        "  print('>> {}'.format(cmd))\n",
        "  !{cmd}  \n",
        "  print('')"
      ],
      "execution_count": null,
      "outputs": []
    },
    {
      "cell_type": "markdown",
      "metadata": {
        "id": "Q2iyGc6jagf5"
      },
      "source": [
        "## 2. Настройка окружения для сборки и запуска java-программ"
      ]
    },
    {
      "cell_type": "code",
      "metadata": {
        "id": "0qA2O_o7aoYQ",
        "colab": {
          "base_uri": "https://localhost:8080/"
        },
        "outputId": "6b2c2c0b-21ec-4181-ff65-4c94f861f799"
      },
      "source": [
        "import os\n",
        "\n",
        "run('apt-get update > /dev/null')\n",
        "run('apt-get upgrade > /dev/null')\n",
        "\n",
        "run('apt-get install openjdk-11-jdk > /dev/null')\n",
        "\n",
        "run('apt-get install maven > /dev/null')\n",
        "\n",
        "run('javac -version')\n",
        "run('mvn -version')"
      ],
      "execution_count": null,
      "outputs": [
        {
          "output_type": "stream",
          "name": "stdout",
          "text": [
            ">> apt-get update > /dev/null\n",
            "\n",
            ">> apt-get upgrade > /dev/null\n",
            "Extracting templates from packages: 100%\n",
            "\n",
            ">> apt-get install openjdk-11-jdk > /dev/null\n",
            "\n",
            ">> apt-get install maven > /dev/null\n",
            "Extracting templates from packages: 100%\n",
            "\n",
            ">> javac -version\n",
            "javac 11.0.11\n",
            "\n",
            ">> mvn -version\n",
            "\u001b[1mApache Maven 3.6.0\u001b[m\n",
            "Maven home: /usr/share/maven\n",
            "Java version: 11.0.11, vendor: Ubuntu, runtime: /usr/lib/jvm/java-11-openjdk-amd64\n",
            "Default locale: en_US, platform encoding: UTF-8\n",
            "OS name: \"linux\", version: \"5.4.104+\", arch: \"amd64\", family: \"unix\"\n",
            "\n"
          ]
        }
      ]
    },
    {
      "cell_type": "markdown",
      "metadata": {
        "id": "11smq35SejmE"
      },
      "source": [
        "##3. Создаем необходимые директории."
      ]
    },
    {
      "cell_type": "code",
      "metadata": {
        "colab": {
          "base_uri": "https://localhost:8080/"
        },
        "id": "ljLnUHqlefjI",
        "outputId": "0d8e8e54-c689-4de1-ba41-3a1879f8c493"
      },
      "source": [
        "run('rm -Rv src')\n",
        "run('mkdir -p src/main/java/org/etu/apu/intelisys/practice/ex2')\n",
        "run('mkdir -p src/main/resources/org/etu/apu/intelisys/practice/ex2')\n",
        "run('mkdir -p src/main/resources/META-INF/')"
      ],
      "execution_count": null,
      "outputs": [
        {
          "output_type": "stream",
          "name": "stdout",
          "text": [
            ">> rm -Rv src\n",
            "rm: cannot remove 'src': No such file or directory\n",
            "\n",
            ">> mkdir -p src/main/java/org/etu/apu/intelisys/practice/ex2\n",
            "\n",
            ">> mkdir -p src/main/resources/org/etu/apu/intelisys/practice/ex2\n",
            "\n",
            ">> mkdir -p src/main/resources/META-INF/\n",
            "\n"
          ]
        }
      ]
    },
    {
      "cell_type": "markdown",
      "metadata": {
        "id": "pyAKzKH1Qsgo"
      },
      "source": [
        "##4. Описываем инструкцию по сборке простого java-приложения"
      ]
    },
    {
      "cell_type": "code",
      "metadata": {
        "colab": {
          "base_uri": "https://localhost:8080/"
        },
        "id": "w_x1fU_RknlE",
        "outputId": "f9a11e8d-b864-47ef-d429-6f26561bb7d4"
      },
      "source": [
        "%%writefile pom.xml\n",
        "<project xmlns=\"http://maven.apache.org/POM/4.0.0\" xmlns:xsi=\"http://www.w3.org/2001/XMLSchema-instance\" xsi:schemaLocation=\"http://maven.apache.org/POM/4.0.0 http://maven.apache.org/xsd/maven-4.0.0.xsd\">\n",
        "    <modelVersion>4.0.0</modelVersion>\n",
        "\n",
        "    <parent>\n",
        "        <groupId>org.springframework.boot</groupId>\n",
        "        <artifactId>spring-boot-starter-parent</artifactId>\n",
        "        <version>2.5.6</version>\n",
        "        <relativePath/> <!-- lookup parent from repository -->\n",
        "    </parent>\n",
        "\n",
        "    <groupId> org.etu.apu.intelisys.practice.ex2</groupId>\n",
        "    <artifactId>ex2-drools</artifactId>\n",
        "    <properties>\n",
        "        <maven.compiler.source>1.8</maven.compiler.source>\n",
        "        <maven.compiler.target>1.8</maven.compiler.target>\n",
        "        <drools-version>7.60.0.Final</drools-version>\n",
        "    </properties>\n",
        "    <version>0.0.1-SNAPSHOT</version>\n",
        "\n",
        "\n",
        "\t<dependencies>\n",
        "\n",
        "        <dependency>\n",
        "            <groupId>org.springframework.boot</groupId>\n",
        "            <artifactId>spring-boot-starter</artifactId>\n",
        "        </dependency>\n",
        "\n",
        "        <dependency>\n",
        "            <groupId>org.kie.kogito</groupId>\n",
        "            <artifactId>kogito-rules-spring-boot-starter</artifactId>\n",
        "            <version>1.12.0.Final</version>\n",
        "        </dependency>\n",
        "        \n",
        "        <dependency>\n",
        "            <groupId>org.kie</groupId>\n",
        "            <artifactId>kie-api</artifactId>\n",
        "            <version>${drools-version}</version>\n",
        "        </dependency>\n",
        "\n",
        "        <dependency>\n",
        "            <groupId>org.drools</groupId>\n",
        "            <artifactId>drools-compiler</artifactId>\n",
        "            <version>${drools-version}</version>\n",
        "        </dependency>\n",
        "        <dependency>\n",
        "            <groupId>org.drools</groupId>\n",
        "            <artifactId>drools-core</artifactId>\n",
        "            <version>${drools-version}</version>\n",
        "        </dependency>\n",
        "\n",
        "        <dependency>\n",
        "            <groupId>org.drools</groupId>\n",
        "            <artifactId>drools-mvel</artifactId>\n",
        "            <version>${drools-version}</version>\n",
        "        </dependency>\n",
        "\n",
        "\t</dependencies>\n",
        "\n",
        "    <build>\n",
        "        <plugins>\n",
        "            <plugin>\n",
        "                <groupId>org.kie</groupId>\n",
        "                <artifactId>kie-maven-plugin</artifactId>\n",
        "                <version>7.60.0.Final</version>\n",
        "                <extensions>true</extensions>\n",
        "            </plugin>\n",
        "<!--\n",
        "            <plugin>\n",
        "                <groupId>org.apache.maven.plugins</groupId>\n",
        "                <artifactId>maven-shade-plugin</artifactId>\n",
        "                <version>1.6</version>\n",
        "                <executions>\n",
        "                    <execution>\n",
        "                        <phase>package</phase>\n",
        "                        <goals>\n",
        "                            <goal>shade</goal>\n",
        "                        </goals>\n",
        "                        <configuration>\n",
        "                            <transformers>\n",
        "                            <transformer implementation=\"org.apache.maven.plugins.shade.resource.AppendingTransformer\">\n",
        "                                <resource>META-INF/kie.conf</resource>\n",
        "                            </transformer>\n",
        "                            </transformers>\n",
        "                        </configuration>\n",
        "                    </execution>\n",
        "                </executions>\n",
        "            </plugin>\n",
        "            -->\n",
        "        </plugins>\n",
        "    </build>\n",
        "</project>"
      ],
      "execution_count": null,
      "outputs": [
        {
          "output_type": "stream",
          "name": "stdout",
          "text": [
            "Writing pom.xml\n"
          ]
        }
      ]
    },
    {
      "cell_type": "code",
      "metadata": {
        "colab": {
          "base_uri": "https://localhost:8080/"
        },
        "id": "WH1TEqx-_Mnw",
        "outputId": "ebdb19e8-cf99-4853-e4b0-def577bb6e9a"
      },
      "source": [
        "%%writefile src/main/resources/META-INF/kmodule.xml\n",
        "<kmodule xmlns=\"http://www.drools.org/xsd/kmodule\"/>"
      ],
      "execution_count": null,
      "outputs": [
        {
          "output_type": "stream",
          "name": "stdout",
          "text": [
            "Writing src/main/resources/META-INF/kmodule.xml\n"
          ]
        }
      ]
    },
    {
      "cell_type": "markdown",
      "metadata": {
        "id": "apZtVdrqfGcv"
      },
      "source": [
        "## 5. Подготавливаем файлы с исходным кодом на языке java."
      ]
    },
    {
      "cell_type": "code",
      "metadata": {
        "colab": {
          "base_uri": "https://localhost:8080/"
        },
        "id": "G3EcKyY4X2Uu",
        "outputId": "97b11f14-c929-4651-d39a-9c7147fb4ffd"
      },
      "source": [
        "%%writefile src/main/java/org/etu/apu/intelisys/practice/ex2/Path.java\n",
        "\n",
        "package org.etu.apu.intelisys.practice.ex2;\n",
        "\n",
        "public class Path {\n",
        "    private String from;\n",
        "    private String to;\n",
        "\n",
        "    public void setFrom(String fromName) {\n",
        "        from = fromName;\n",
        "    }\n",
        "\n",
        "    public String getFrom() {\n",
        "        return from;\n",
        "    }\n",
        "\n",
        "    public void setTo(String toName) {\n",
        "        to = toName;\n",
        "    }\n",
        "\n",
        "    public String getTo() {\n",
        "        return to;\n",
        "    }\n",
        "\n",
        "    public Path(String from, String to) {\n",
        "        this.from = from;\n",
        "        this.to = to;\n",
        "    }\n",
        "\n",
        "    public Path() {\n",
        "        from = null;\n",
        "        to = null;\n",
        "    }\n",
        "\n",
        "    public String toString() {\n",
        "        return \"(\" + from + \", \" + to + \")\";\n",
        "    }\n",
        "\n",
        "}"
      ],
      "execution_count": null,
      "outputs": [
        {
          "output_type": "stream",
          "name": "stdout",
          "text": [
            "Writing src/main/java/org/etu/apu/intelisys/practice/ex2/Path.java\n"
          ]
        }
      ]
    },
    {
      "cell_type": "code",
      "metadata": {
        "id": "XqwG_cp1e1BT",
        "colab": {
          "base_uri": "https://localhost:8080/"
        },
        "outputId": "50ac709d-26c4-4b29-bd3d-56e2d0daa562"
      },
      "source": [
        "%%writefile src/main/java/org/etu/apu/intelisys/practice/ex2/AppWithRules.java\n",
        "\n",
        "package org.etu.apu.intelisys.practice.ex2;\n",
        "\n",
        "import java.io.IOException;\n",
        "import java.io.InputStream;\n",
        "import java.io.InputStreamReader;\n",
        "import java.io.Reader;\n",
        "\n",
        "import org.kie.api.runtime.KieSession;\n",
        "import org.kie.api.KieServices;\n",
        "import org.kie.api.runtime.KieContainer;\n",
        "import org.kie.api.runtime.rule.QueryResults;\n",
        "import org.kie.api.runtime.rule.QueryResultsRow;\n",
        "\n",
        "import org.etu.apu.intelisys.practice.ex2.Path;\n",
        "\n",
        "\n",
        "public class AppWithRules {\n",
        "    public static void main(String[] args) throws IOException {\n",
        "\t\tAppWithRules drools = new AppWithRules();\n",
        "\t\tdrools.executeDrools();\n",
        "\t}\n",
        "\n",
        "\n",
        "\tpublic void executeDrools() throws IOException {\n",
        "\t\t  \n",
        "\t\tKieServices kieService = KieServices.Factory.get();\n",
        "\t\t\n",
        "\t\tKieContainer kContainer =  kieService.getKieClasspathContainer();\n",
        "\n",
        "\t\tKieSession session = kContainer.newKieSession();\n",
        "\n",
        "\t\tPath[] switchArray = {\n",
        "\t\t\tnew Path(\"A1\", \"A2\"),\n",
        "\t\t\tnew Path(\"A2\", \"A3\"),\n",
        "\t\t\tnew Path(\"A3\", \"A4\"),\n",
        "\t\t\tnew Path(\"A4\", \"A5\"),\n",
        "\t\t\tnew Path(\"A5\", \"A6\"),\n",
        "\t\t\tnew Path(\"A3\", \"A7\"),\n",
        "\t\t\tnew Path(\"A7\", \"A8\")\n",
        "\t\t};\t\n",
        "\t\t\n",
        "\t\tfor(Path it: switchArray ) {\n",
        "\t\t\tsession.insert(it);\n",
        "\t\t}\n",
        "\n",
        "\t\tSystem.out.println(\"===== Активация всех правил =====\");\n",
        "\t\tsession.fireAllRules();\n",
        "\n",
        "\t\tSystem.out.println(\"===== Задаем вопрос системе \\\"Можно ли пройти из точки A1 в точку A6?\\\" =====\");\n",
        "\t\tQueryResults result = session.getQueryResults(\"Check path\", new String(\"A1\"), new String(\"A6\"));\n",
        "\t\tSystem.out.println(\"Число найденых результатов: \" + result.size());\n",
        "\t\tfor(QueryResultsRow res: result) {\n",
        "\t\t\t  System.out.println(\"Найденый факт:\" + res.get(\"result\").toString());\n",
        "\t\t}\n",
        "    }\n",
        "\n",
        "\tpublic static void print(String str) {\n",
        "\t\t  System.out.println(str);\n",
        "\t}\n",
        "}"
      ],
      "execution_count": null,
      "outputs": [
        {
          "output_type": "stream",
          "name": "stdout",
          "text": [
            "Writing src/main/java/org/etu/apu/intelisys/practice/ex2/AppWithRules.java\n"
          ]
        }
      ]
    },
    {
      "cell_type": "code",
      "metadata": {
        "id": "uva2tCdKXhBN",
        "colab": {
          "base_uri": "https://localhost:8080/"
        },
        "outputId": "aa7a328f-f5f1-4be8-b227-d768fb36c098"
      },
      "source": [
        "%%writefile src/main/resources/org/etu/apu/intelisys/practice/ex2/rules.drl\n",
        "package org.etu.apu.intelisys.practice.ex2;\n",
        "\n",
        "import function org.etu.apu.intelisys.practice.ex2.AppWithRules.print\n",
        "import org.etu.apu.intelisys.practice.ex2.Path\n",
        "\n",
        "rule \"Make connection\"\n",
        "\twhen \n",
        "\t\t$from: Path()\n",
        "\t\t$to: Path(from == $from.getTo())\n",
        "\t\tnot Path(from == $from.getFrom(), to == $to.getTo())\n",
        "  \tthen\n",
        "\t  \tprint(\"New path (\" + $from.getFrom() + \", \" \n",
        "\t\t        + $to.getTo() + \") from (\" + $from.getFrom() + \", \" + $from.getTo() + \") => (\" + $to.getFrom() + \", \" + $to.getTo() + \").\" );\n",
        "\t\tinsert(new Path($from.getFrom(), $to.getTo()));\n",
        "\tend\n",
        "\n",
        "query \"Check path\" (start, end)\n",
        "\tresult: Path(from == start, to == end)\n",
        "end\n",
        "\n"
      ],
      "execution_count": null,
      "outputs": [
        {
          "output_type": "stream",
          "name": "stdout",
          "text": [
            "Writing src/main/resources/org/etu/apu/intelisys/practice/ex2/rules.drl\n"
          ]
        }
      ]
    },
    {
      "cell_type": "markdown",
      "metadata": {
        "id": "hJ_bWhkGgaGa"
      },
      "source": [
        "##6. Сборка и запуск приложения"
      ]
    },
    {
      "cell_type": "code",
      "metadata": {
        "id": "VwQUF2F4nc2s"
      },
      "source": [
        "run('mvn package spring-boot:run')"
      ],
      "execution_count": null,
      "outputs": []
    },
    {
      "cell_type": "markdown",
      "metadata": {
        "id": "SHjoaz2kU8tU"
      },
      "source": [
        "См. результат логического вывода см. выше."
      ]
    }
  ]
}